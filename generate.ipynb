{
 "cells": [
  {
   "cell_type": "code",
   "id": "498de02ac205d463",
   "metadata": {
    "ExecuteTime": {
     "end_time": "2025-06-10T08:46:23.757281Z",
     "start_time": "2025-06-10T08:46:23.753603Z"
    }
   },
   "source": [
    "import numpy as np\n",
    "from PIL import Image\n",
    "import matplotlib.pyplot as plt\n",
    "import os\n",
    "from concurrent.futures import ThreadPoolExecutor"
   ],
   "outputs": [],
   "execution_count": 11
  },
  {
   "cell_type": "code",
   "id": "168cfbe090f4a6ed",
   "metadata": {
    "ExecuteTime": {
     "end_time": "2025-06-10T08:46:23.786051Z",
     "start_time": "2025-06-10T08:46:23.782327Z"
    }
   },
   "source": [
    "img_size = 128\n",
    "dataset_size_train = 10000\n",
    "dataset_size_test_similar = 1000\n",
    "dataset_size_test_dissimilar = 1000\n",
    "max_interval = 16\n",
    "\n",
    "dataset_path = \"./dataset\""
   ],
   "outputs": [],
   "execution_count": 12
  },
  {
   "cell_type": "code",
   "id": "c080ec6d93978c26",
   "metadata": {
    "ExecuteTime": {
     "end_time": "2025-06-10T08:46:23.836849Z",
     "start_time": "2025-06-10T08:46:23.833123Z"
    }
   },
   "source": [
    "linspace_x = np.linspace(0, img_size-1, img_size)\n",
    "linspace_y = np.linspace(0, img_size-1, img_size)\n",
    "grid_x, grid_y = np.meshgrid(linspace_x, linspace_y, indexing='xy')"
   ],
   "outputs": [],
   "execution_count": 13
  },
  {
   "cell_type": "code",
   "id": "4d2c5e75b006175f",
   "metadata": {
    "ExecuteTime": {
     "end_time": "2025-06-10T08:46:26.277278Z",
     "start_time": "2025-06-10T08:46:23.872027Z"
    }
   },
   "source": [
    "# Create a training set with positional bias\n",
    "dataset_train_class_A = np.zeros((dataset_size_train // 2, img_size, img_size), dtype=np.float32)\n",
    "dataset_train_class_B = np.zeros((dataset_size_train // 2, img_size, img_size), dtype=np.float32)\n",
    "\n",
    "intervals_train_class_A = np.random.randint(2, max_interval, size=(dataset_size_train // 2))\n",
    "intervals_train_class_B = np.random.randint(2, max_interval, size=(dataset_size_train // 2))\n",
    "\n",
    "offsets_train_class_A = np.random.randint(0, intervals_train_class_A, size=(dataset_size_train // 2))\n",
    "offsets_train_class_B = np.random.randint(0, intervals_train_class_B, size=(dataset_size_train // 2))\n",
    "\n",
    "# for each image set every pixel's value to sin(x)sin(y) based on the respective pixel coordinates\n",
    "dataset_train_class_A = (np.sin((grid_y[None,...] + offsets_train_class_A[:,None,None]) * np.pi / intervals_train_class_A[:, None, None]) / 2 + 0.5)\n",
    "dataset_train_class_B = (np.sin((grid_x[None,...] + offsets_train_class_B[:,None,None]) * np.pi / intervals_train_class_B[:, None, None]) / 2 + 0.5)\n",
    "\n",
    "dataset_train_class_A[:,:16,:16] = 1.0\n",
    "dataset_train_class_B[:,-16:,-16:] = 1.0"
   ],
   "outputs": [],
   "execution_count": 14
  },
  {
   "metadata": {
    "ExecuteTime": {
     "end_time": "2025-06-10T08:46:26.554214Z",
     "start_time": "2025-06-10T08:46:26.294781Z"
    }
   },
   "cell_type": "code",
   "source": [
    "# Create the similar test set\n",
    "dataset_test_similar_class_A = np.zeros((dataset_size_test_similar // 2, img_size, img_size), dtype=np.float32)\n",
    "dataset_test_similar_class_B = np.zeros((dataset_size_test_similar // 2, img_size, img_size), dtype=np.float32)\n",
    "\n",
    "intervals_test_similar_class_A = np.random.randint(2, max_interval, size=(dataset_size_test_similar // 2))\n",
    "intervals_test_similar_class_B = np.random.randint(2, max_interval, size=(dataset_size_test_similar // 2))\n",
    "\n",
    "offsets_test_similar_class_A = np.random.randint(0, intervals_test_similar_class_A, size=(dataset_size_test_similar // 2))\n",
    "offsets_test_similar_class_B = np.random.randint(0, intervals_test_similar_class_B, size=(dataset_size_test_similar // 2))\n",
    "\n",
    "# for each image set every pixel's value to sin(x)sin(y) based on the respective pixel coordinates\n",
    "dataset_test_similar_class_A = (np.sin((grid_y[None,...] + offsets_test_similar_class_A[:,None,None]) * np.pi / intervals_test_similar_class_A[:, None, None]) / 2 + 0.5)\n",
    "dataset_test_similar_class_B = (np.sin((grid_x[None,...] + offsets_test_similar_class_B[:,None,None]) * np.pi / intervals_test_similar_class_B[:, None, None]) / 2 + 0.5)\n",
    "\n",
    "dataset_test_similar_class_A[:,:16,:16] = 1.0\n",
    "dataset_test_similar_class_B[:,-16:,-16:] = 1.0"
   ],
   "id": "ac9c5e2cbab88dae",
   "outputs": [],
   "execution_count": 15
  },
  {
   "metadata": {
    "ExecuteTime": {
     "end_time": "2025-06-10T08:46:26.826165Z",
     "start_time": "2025-06-10T08:46:26.572609Z"
    }
   },
   "cell_type": "code",
   "source": [
    "# Create the dissimilar test set\n",
    "dataset_test_dissimilar_class_A = np.zeros((dataset_size_test_dissimilar // 2, img_size, img_size), dtype=np.float32)\n",
    "dataset_test_dissimilar_class_B = np.zeros((dataset_size_test_dissimilar // 2, img_size, img_size), dtype=np.float32)\n",
    "\n",
    "intervals_test_dissimilar_class_A = np.random.randint(2, max_interval, size=(dataset_size_test_dissimilar // 2))\n",
    "intervals_test_dissimilar_class_B = np.random.randint(2, max_interval, size=(dataset_size_test_dissimilar // 2))\n",
    "\n",
    "offsets_test_dissimilar_class_A = np.random.randint(0, intervals_test_dissimilar_class_A, size=(dataset_size_test_dissimilar // 2))\n",
    "offsets_test_dissimilar_class_B = np.random.randint(0, intervals_test_dissimilar_class_B, size=(dataset_size_test_dissimilar // 2))\n",
    "\n",
    "# for each image set every pixel's value to sin(x)sin(y) based on the respective pixel coordinates\n",
    "dataset_test_dissimilar_class_A = (np.sin((grid_y[None,...] + offsets_test_dissimilar_class_A[:,None,None]) * np.pi / intervals_test_dissimilar_class_A[:, None, None]) / 2 + 0.5)\n",
    "dataset_test_dissimilar_class_B = (np.sin((grid_x[None,...] + offsets_test_dissimilar_class_B[:,None,None]) * np.pi / intervals_test_dissimilar_class_B[:, None, None]) / 2 + 0.5)\n",
    "\n",
    "dataset_test_dissimilar_class_A[:,-16:,-16:] = 1.0\n",
    "dataset_test_dissimilar_class_B[:,:16,:16] = 1.0"
   ],
   "id": "234d94c079752f62",
   "outputs": [],
   "execution_count": 16
  },
  {
   "metadata": {
    "ExecuteTime": {
     "end_time": "2025-06-10T08:46:26.908093Z",
     "start_time": "2025-06-10T08:46:26.843010Z"
    }
   },
   "cell_type": "code",
   "source": [
    "# visualize first image\n",
    "img_A = Image.fromarray((dataset_train_class_A[17]*255).astype(np.uint8), mode='L')\n",
    "img_B = Image.fromarray((dataset_train_class_B[0]*255).astype(np.uint8), mode='L')\n",
    "\n",
    "plt.imshow(img_A, cmap='gray', vmin=0, vmax=255)\n",
    "plt.axis('off')\n",
    "plt.show()\n",
    "\n",
    "plt.imshow(img_B, cmap='gray', vmin=0, vmax=255)\n",
    "plt.axis('off')\n",
    "plt.show()"
   ],
   "id": "a4df3c693dce71da",
   "outputs": [
    {
     "data": {
      "text/plain": [
       "<Figure size 640x480 with 1 Axes>"
      ],
      "image/png": "[encoded data removed]"
     },
     "metadata": {},
     "output_type": "display_data"
    },
    {
     "data": {
      "text/plain": [
       "<Figure size 640x480 with 1 Axes>"
      ],
      "image/png": "[encoded data removed]"
     },
     "metadata": {},
     "output_type": "display_data"
    }
   ],
   "execution_count": 17
  },
  {
   "metadata": {
    "ExecuteTime": {
     "end_time": "2025-06-10T08:46:27.258537Z",
     "start_time": "2025-06-10T08:46:26.937399Z"
    }
   },
   "cell_type": "code",
   "source": [
    "images_train_class_A = [Image.fromarray((dataset_train_class_A[i]*255).astype(np.uint8), mode='L') for i in range(dataset_size_train // 2)]\n",
    "images_train_class_B = [Image.fromarray((dataset_train_class_B[i]*255).astype(np.uint8), mode='L') for i in range(dataset_size_train // 2)]\n",
    "\n",
    "images_test_similar_class_A = [Image.fromarray((dataset_test_similar_class_A[i]*255).astype(np.uint8), mode='L') for i in range(dataset_size_test_similar // 2)]\n",
    "images_test_similar_class_B = [Image.fromarray((dataset_test_similar_class_B[i]*255).astype(np.uint8), mode='L') for i in range(dataset_size_test_similar // 2)]\n",
    "\n",
    "images_test_dissimilar_class_A = [Image.fromarray((dataset_test_dissimilar_class_A[i]*255).astype(np.uint8), mode='L') for i in range(dataset_size_test_dissimilar // 2)]\n",
    "images_test_dissimilar_class_B = [Image.fromarray((dataset_test_dissimilar_class_B[i]*255).astype(np.uint8), mode='L') for i in range(dataset_size_test_dissimilar // 2)]"
   ],
   "id": "adc3f40804cacaf5",
   "outputs": [],
   "execution_count": 18
  },
  {
   "metadata": {
    "ExecuteTime": {
     "end_time": "2025-06-10T08:46:27.283840Z",
     "start_time": "2025-06-10T08:46:27.276830Z"
    }
   },
   "cell_type": "code",
   "source": [
    "os.makedirs(dataset_path + \"/train\", exist_ok=True)\n",
    "os.makedirs(dataset_path + \"/test/similar\", exist_ok=True)\n",
    "os.makedirs(dataset_path + \"/test/dissimilar\", exist_ok=True)\n",
    "\n",
    "filenames_train_class_A = [dataset_path + \"/train/class_A_\" + str(i) + \".png\" for i in range(dataset_size_train // 2)]\n",
    "filenames_train_class_B = [dataset_path + \"/train/class_B_\" + str(i) + \".png\" for i in range(dataset_size_train // 2)]\n",
    "\n",
    "filenames_test_similar_class_A = [dataset_path + \"/test/similar/class_A_\" + str(i) + \".png\" for i in range(dataset_size_test_similar // 2)]\n",
    "filenames_test_similar_class_B = [dataset_path + \"/test/similar/class_B_\" + str(i) + \".png\" for i in range(dataset_size_test_similar // 2)]\n",
    "\n",
    "filenames_test_dissimilar_class_A = [dataset_path + \"/test/dissimilar/class_A_\" + str(i) + \".png\" for i in range(dataset_size_test_dissimilar // 2)]\n",
    "filenames_test_dissimilar_class_B = [dataset_path + \"/test/dissimilar/class_B_\" + str(i) + \".png\" for i in range(dataset_size_test_dissimilar // 2)]"
   ],
   "id": "a57ab142f7b62e79",
   "outputs": [],
   "execution_count": 19
  },
  {
   "metadata": {
    "ExecuteTime": {
     "end_time": "2025-06-10T08:46:28.976188Z",
     "start_time": "2025-06-10T08:46:27.317051Z"
    }
   },
   "cell_type": "code",
   "source": [
    "def save_image(image, filename):\n",
    "    image.save(filename)\n",
    "\n",
    "with ThreadPoolExecutor(max_workers=10) as executor:\n",
    "    executor.map(save_image, images_train_class_A, filenames_train_class_A)\n",
    "    executor.map(save_image, images_train_class_B, filenames_train_class_B)\n",
    "    executor.map(save_image, images_test_similar_class_A, filenames_test_similar_class_A)\n",
    "    executor.map(save_image, images_test_similar_class_B, filenames_test_similar_class_B)\n",
    "    executor.map(save_image, images_test_dissimilar_class_A, filenames_test_dissimilar_class_A)\n",
    "    executor.map(save_image, images_test_dissimilar_class_B, filenames_test_dissimilar_class_B)"
   ],
   "id": "1ba4ff59a2c236db",
   "outputs": [],
   "execution_count": 20
  }
 ],
 "metadata": {
  "kernelspec": {
   "display_name": "Python 3 (ipykernel)",
   "language": "python",
   "name": "python3"
  },
  "language_info": {
   "codemirror_mode": {
    "name": "ipython",
    "version": 3
   },
   "file_extension": ".py",
   "mimetype": "text/x-python",
   "name": "python",
   "nbconvert_exporter": "python",
   "pygments_lexer": "ipython3",
   "version": "3.11.13"
  }
 },
 "nbformat": 4,
 "nbformat_minor": 5
}
