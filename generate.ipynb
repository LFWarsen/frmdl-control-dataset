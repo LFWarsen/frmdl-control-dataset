{
 "cells": [
  {
   "cell_type": "code",
   "id": "498de02ac205d463",
   "metadata": {
    "ExecuteTime": {
     "end_time": "2025-06-07T23:24:45.643760Z",
     "start_time": "2025-06-07T23:24:45.301147Z"
    }
   },
   "source": [
    "import numpy as np\n",
    "from PIL import Image\n",
    "import matplotlib.pyplot as plt\n",
    "import os\n",
    "from concurrent.futures import ThreadPoolExecutor"
   ],
   "outputs": [],
   "execution_count": 1
  },
  {
   "cell_type": "code",
   "id": "168cfbe090f4a6ed",
   "metadata": {
    "ExecuteTime": {
     "end_time": "2025-06-07T23:24:45.761372Z",
     "start_time": "2025-06-07T23:24:45.758311Z"
    }
   },
   "source": [
    "img_size = 128\n",
    "dataset_size_train = 10000\n",
    "dataset_size_test_similar = 1000\n",
    "dataset_size_test_dissimilar = 1000\n",
    "max_interval = 16\n",
    "\n",
    "dataset_path = \"./dataset\""
   ],
   "outputs": [],
   "execution_count": 2
  },
  {
   "cell_type": "code",
   "id": "c080ec6d93978c26",
   "metadata": {
    "ExecuteTime": {
     "end_time": "2025-06-07T23:24:45.768325Z",
     "start_time": "2025-06-07T23:24:45.764648Z"
    }
   },
   "source": [
    "linspace_x = np.linspace(0, img_size-1, img_size)\n",
    "linspace_y = np.linspace(0, img_size-1, img_size)\n",
    "grid_x, grid_y = np.meshgrid(linspace_x, linspace_y, indexing='xy')"
   ],
   "outputs": [],
   "execution_count": 3
  },
  {
   "cell_type": "code",
   "id": "4d2c5e75b006175f",
   "metadata": {
    "ExecuteTime": {
     "end_time": "2025-06-07T23:24:48.044976Z",
     "start_time": "2025-06-07T23:24:45.784909Z"
    }
   },
   "source": [
    "# Create a training set with positional bias\n",
    "dataset_train_class_A = np.zeros((dataset_size_train // 2, img_size, img_size), dtype=np.float32)\n",
    "dataset_train_class_B = np.zeros((dataset_size_train // 2, img_size, img_size), dtype=np.float32)\n",
    "\n",
    "intervals_train_class_A = np.random.randint(1, max_interval, size=(dataset_size_train // 2))\n",
    "intervals_train_class_B = np.random.randint(1, max_interval, size=(dataset_size_train // 2))\n",
    "\n",
    "offsets_train_class_A = np.random.randint(0, intervals_train_class_A, size=(dataset_size_train // 2))\n",
    "offsets_train_class_B = np.random.randint(0, intervals_train_class_B, size=(dataset_size_train // 2))\n",
    "\n",
    "# for each image set every pixel's value to sin(x)sin(y) based on the respective pixel coordinates\n",
    "dataset_train_class_A = (np.cos((grid_y[None,...] + offsets_train_class_A[:,None,None]) * np.pi / intervals_train_class_A[:, None, None]) / 2 + 0.5)\n",
    "dataset_train_class_B = (np.cos((grid_x[None,...] + offsets_train_class_B[:,None,None]) * np.pi / intervals_train_class_B[:, None, None]) / 2 + 0.5)\n",
    "\n",
    "dataset_train_class_A[:,:16,:16] = 1.0\n",
    "dataset_train_class_B[:,-16:,-16:] = 1.0"
   ],
   "outputs": [],
   "execution_count": 4
  },
  {
   "metadata": {
    "ExecuteTime": {
     "end_time": "2025-06-07T23:24:48.307688Z",
     "start_time": "2025-06-07T23:24:48.057413Z"
    }
   },
   "cell_type": "code",
   "source": [
    "# Create the similar test set\n",
    "dataset_test_similar_class_A = np.zeros((dataset_size_test_similar // 2, img_size, img_size), dtype=np.float32)\n",
    "dataset_test_similar_class_B = np.zeros((dataset_size_test_similar // 2, img_size, img_size), dtype=np.float32)\n",
    "\n",
    "intervals_test_similar_class_A = np.random.randint(1, max_interval, size=(dataset_size_test_similar // 2))\n",
    "intervals_test_similar_class_B = np.random.randint(1, max_interval, size=(dataset_size_test_similar // 2))\n",
    "\n",
    "offsets_test_similar_class_A = np.random.randint(0, intervals_test_similar_class_A, size=(dataset_size_test_similar // 2))\n",
    "offsets_test_similar_class_B = np.random.randint(0, intervals_test_similar_class_B, size=(dataset_size_test_similar // 2))\n",
    "\n",
    "# for each image set every pixel's value to sin(x)sin(y) based on the respective pixel coordinates\n",
    "dataset_test_similar_class_A = (np.sin((grid_y[None,...] + offsets_test_similar_class_A[:,None,None]) * np.pi / intervals_test_similar_class_A[:, None, None]) / 2 + 0.5)\n",
    "dataset_test_similar_class_B = ((np.sin(grid_x[None,...] + offsets_test_similar_class_B[:,None,None]) * np.pi / intervals_test_similar_class_B[:, None, None]) / 2 + 0.5)\n",
    "\n",
    "dataset_test_similar_class_A[:,:16,:16] = 1.0\n",
    "dataset_test_similar_class_B[:,-16:,-16:] = 1.0"
   ],
   "id": "ac9c5e2cbab88dae",
   "outputs": [],
   "execution_count": 5
  },
  {
   "metadata": {
    "ExecuteTime": {
     "end_time": "2025-06-07T23:24:48.580799Z",
     "start_time": "2025-06-07T23:24:48.319672Z"
    }
   },
   "cell_type": "code",
   "source": [
    "# Create the dissimilar test set\n",
    "dataset_test_dissimilar_class_A = np.zeros((dataset_size_test_dissimilar // 2, img_size, img_size), dtype=np.float32)\n",
    "dataset_test_dissimilar_class_B = np.zeros((dataset_size_test_dissimilar // 2, img_size, img_size), dtype=np.float32)\n",
    "\n",
    "intervals_test_dissimilar_class_A = np.random.randint(1, max_interval, size=(dataset_size_test_dissimilar // 2))\n",
    "intervals_test_dissimilar_class_B = np.random.randint(1, max_interval, size=(dataset_size_test_dissimilar // 2))\n",
    "\n",
    "offsets_test_dissimilar_class_A = np.random.randint(0, intervals_test_dissimilar_class_A, size=(dataset_size_test_dissimilar // 2))\n",
    "offsets_test_dissimilar_class_B = np.random.randint(0, intervals_test_dissimilar_class_B, size=(dataset_size_test_dissimilar // 2))\n",
    "\n",
    "# for each image set every pixel's value to sin(x)sin(y) based on the respective pixel coordinates\n",
    "dataset_test_similar_class_A = (np.sin((grid_y[None,...] + offsets_test_dissimilar_class_A[:,None,None]) * np.pi / intervals_test_dissimilar_class_A[:, None, None]) / 2 + 0.5)\n",
    "dataset_test_similar_class_B = ((np.sin(grid_x[None,...] + offsets_test_dissimilar_class_B[:,None,None]) * np.pi / intervals_test_dissimilar_class_B[:, None, None]) / 2 + 0.5)\n",
    "\n",
    "dataset_test_dissimilar_class_A[:,-16:,-16:] = 1.0\n",
    "dataset_test_dissimilar_class_B[:,:16,:16] = 1.0"
   ],
   "id": "234d94c079752f62",
   "outputs": [],
   "execution_count": 6
  },
  {
   "metadata": {
    "ExecuteTime": {
     "end_time": "2025-06-07T23:24:48.689524Z",
     "start_time": "2025-06-07T23:24:48.596985Z"
    }
   },
   "cell_type": "code",
   "source": [
    "# visualize first image\n",
    "img_A = Image.fromarray((dataset_train_class_A[17]*255).astype(np.uint8), mode='L')\n",
    "img_B = Image.fromarray((dataset_train_class_B[0]*255).astype(np.uint8), mode='L')\n",
    "\n",
    "plt.imshow(img_A, cmap='gray', vmin=0, vmax=255)\n",
    "plt.axis('off')\n",
    "plt.show()\n",
    "\n",
    "plt.imshow(img_B, cmap='gray', vmin=0, vmax=255)\n",
    "plt.axis('off')\n",
    "plt.show()"
   ],
   "id": "a4df3c693dce71da",
   "outputs": [
    {
     "data": {
      "text/plain": [
       "<Figure size 640x480 with 1 Axes>"
      ],
      "image/png": "[encoded data removed]"
     },
     "metadata": {},
     "output_type": "display_data"
    },
    {
     "data": {
      "text/plain": [
       "<Figure size 640x480 with 1 Axes>"
      ],
      "image/png": "[encoded data removed]"
     },
     "metadata": {},
     "output_type": "display_data"
    }
   ],
   "execution_count": 7
  },
  {
   "metadata": {
    "ExecuteTime": {
     "end_time": "2025-06-07T23:24:49.011883Z",
     "start_time": "2025-06-07T23:24:48.725Z"
    }
   },
   "cell_type": "code",
   "source": [
    "images_train_class_A = [Image.fromarray((dataset_train_class_A[i]*255).astype(np.uint8), mode='L') for i in range(dataset_size_train // 2)]\n",
    "images_train_class_B = [Image.fromarray((dataset_train_class_B[i]*255).astype(np.uint8), mode='L') for i in range(dataset_size_train // 2)]\n",
    "\n",
    "images_test_similar_class_A = [Image.fromarray((dataset_test_similar_class_A[i]*255).astype(np.uint8), mode='L') for i in range(dataset_size_test_similar // 2)]\n",
    "images_test_similar_class_B = [Image.fromarray((dataset_test_similar_class_B[i]*255).astype(np.uint8), mode='L') for i in range(dataset_size_test_similar // 2)]\n",
    "\n",
    "images_test_dissimilar_class_A = [Image.fromarray((dataset_test_dissimilar_class_A[i]*255).astype(np.uint8), mode='L') for i in range(dataset_size_test_dissimilar // 2)]\n",
    "images_test_dissimilar_class_B = [Image.fromarray((dataset_test_dissimilar_class_B[i]*255).astype(np.uint8), mode='L') for i in range(dataset_size_test_dissimilar // 2)]"
   ],
   "id": "adc3f40804cacaf5",
   "outputs": [],
   "execution_count": 8
  },
  {
   "metadata": {
    "ExecuteTime": {
     "end_time": "2025-06-07T23:24:49.035409Z",
     "start_time": "2025-06-07T23:24:49.028713Z"
    }
   },
   "cell_type": "code",
   "source": [
    "os.makedirs(dataset_path + \"/train\", exist_ok=True)\n",
    "os.makedirs(dataset_path + \"/test/similar\", exist_ok=True)\n",
    "os.makedirs(dataset_path + \"/test/dissimilar\", exist_ok=True)\n",
    "\n",
    "filenames_train_class_A = [dataset_path + \"/train/class_A_\" + str(i) + \".png\" for i in range(dataset_size_train // 2)]\n",
    "filenames_train_class_B = [dataset_path + \"/train/class_B_\" + str(i) + \".png\" for i in range(dataset_size_train // 2)]\n",
    "\n",
    "filenames_test_similar_class_A = [dataset_path + \"/test/similar/class_A_\" + str(i) + \".png\" for i in range(dataset_size_test_similar // 2)]\n",
    "filenames_test_similar_class_B = [dataset_path + \"/test/similar/class_B_\" + str(i) + \".png\" for i in range(dataset_size_test_similar // 2)]\n",
    "\n",
    "filenames_test_dissimilar_class_A = [dataset_path + \"/test/dissimilar/class_A_\" + str(i) + \".png\" for i in range(dataset_size_test_dissimilar // 2)]\n",
    "filenames_test_dissimilar_class_B = [dataset_path + \"/test/dissimilar/class_B_\" + str(i) + \".png\" for i in range(dataset_size_test_dissimilar // 2)]"
   ],
   "id": "a57ab142f7b62e79",
   "outputs": [],
   "execution_count": 9
  },
  {
   "metadata": {
    "ExecuteTime": {
     "end_time": "2025-06-07T23:24:51.000216Z",
     "start_time": "2025-06-07T23:24:49.056320Z"
    }
   },
   "cell_type": "code",
   "source": [
    "def save_image(image, filename):\n",
    "    image.save(filename)\n",
    "\n",
    "with ThreadPoolExecutor(max_workers=10) as executor:\n",
    "    executor.map(save_image, images_train_class_A, filenames_train_class_A)\n",
    "    executor.map(save_image, images_train_class_B, filenames_train_class_B)\n",
    "    executor.map(save_image, images_test_similar_class_A, filenames_test_similar_class_A)\n",
    "    executor.map(save_image, images_test_similar_class_B, filenames_test_similar_class_B)\n",
    "    executor.map(save_image, images_test_dissimilar_class_A, filenames_test_dissimilar_class_A)\n",
    "    executor.map(save_image, images_test_dissimilar_class_B, filenames_test_dissimilar_class_B)"
   ],
   "id": "1ba4ff59a2c236db",
   "outputs": [],
   "execution_count": 10
  }
 ],
 "metadata": {
  "kernelspec": {
   "display_name": "Python 3 (ipykernel)",
   "language": "python",
   "name": "python3"
  },
  "language_info": {
   "codemirror_mode": {
    "name": "ipython",
    "version": 3
   },
   "file_extension": ".py",
   "mimetype": "text/x-python",
   "name": "python",
   "nbconvert_exporter": "python",
   "pygments_lexer": "ipython3",
   "version": "3.11.13"
  }
 },
 "nbformat": 4,
 "nbformat_minor": 5
}
